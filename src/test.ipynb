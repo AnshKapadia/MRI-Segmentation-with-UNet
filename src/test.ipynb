{
 "cells": [
  {
   "cell_type": "code",
   "execution_count": 9,
   "id": "54228da7",
   "metadata": {},
   "outputs": [],
   "source": [
    "import nibabel as nib\n",
    "import numpy as np\n",
    "import glob\n",
    "import os\n",
    "train_dir = r\"/MRI_segmentation\\data\\training_data_additional\"\n",
    "case_dirs = sorted(glob.glob(os.path.join(train_dir, \"BraTS*\")))\n",
    "for i in case_dirs:\n",
    "    label_path=glob.glob(os.path.join(i, \"*seg.nii.gz\"))[0]\n",
    "    label_nii = nib.load(label_path)\n",
    "    label_data = label_nii.get_fdata()\n",
    "    print(\"Unique raw labels:\", np.unique(label_data))"
   ]
  },
  {
   "cell_type": "code",
   "execution_count": 17,
   "id": "3b4b2f7d",
   "metadata": {},
   "outputs": [
    {
     "name": "stdout",
     "output_type": "stream",
     "text": [
      "Current file path: ('c:\\\\Users\\\\anshk\\\\MRI_segmentation\\\\data\\\\training_data1_v2', 'c:\\\\Users\\\\anshk\\\\MRI_segmentation\\\\data\\\\validation_data')\n"
     ]
    }
   ],
   "source": [
    "train_path = os.path.join(os.path.dirname(os.getcwd()), \"data\", \"training_data1_v2\")\n",
    "val_path = os.path.join(os.path.dirname(train_path), \"validation_data\") # x\\y\\z\\MRI_segmentation\\src to x\\y\\z\\MRI_segmentation\\data\n",
    "print(f\"Current file path: {train_path,val_path}\")"
   ]
  },
  {
   "cell_type": "code",
   "execution_count": null,
   "id": "3d1231bf",
   "metadata": {},
   "outputs": [],
   "source": []
  }
 ],
 "metadata": {
  "kernelspec": {
   "display_name": "segment",
   "language": "python",
   "name": "segment"
  },
  "language_info": {
   "codemirror_mode": {
    "name": "ipython",
    "version": 3
   },
   "file_extension": ".py",
   "mimetype": "text/x-python",
   "name": "python",
   "nbconvert_exporter": "python",
   "pygments_lexer": "ipython3",
   "version": "3.10.18"
  }
 },
 "nbformat": 4,
 "nbformat_minor": 5
}
